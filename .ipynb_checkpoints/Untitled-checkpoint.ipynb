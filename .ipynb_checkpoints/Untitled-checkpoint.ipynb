{
 "cells": [
  {
   "cell_type": "code",
   "execution_count": 1,
   "metadata": {},
   "outputs": [],
   "source": [
    "from bs4 import BeautifulSoup\n",
    "import requests\n",
    "import numpy as np\n"
   ]
  },
  {
   "cell_type": "code",
   "execution_count": 2,
   "metadata": {},
   "outputs": [],
   "source": [
    "source = requests.get('http://appsprod.tamuc.edu/Schedule/Schedule.aspx').text"
   ]
  },
  {
   "cell_type": "code",
   "execution_count": 3,
   "metadata": {},
   "outputs": [],
   "source": [
    "soup = BeautifulSoup(source, 'lxml')\n",
    "list = []\n",
    "final_list = []"
   ]
  },
  {
   "cell_type": "code",
   "execution_count": 4,
   "metadata": {},
   "outputs": [],
   "source": [
    "for option in soup.find_all('option'):\n",
    "    list.append(option['value'])"
   ]
  },
  {
   "cell_type": "code",
   "execution_count": 5,
   "metadata": {},
   "outputs": [],
   "source": [
    "final_list = [i for i in list if not 'Mini' in i]\n",
    "final_list = final_list[:5]"
   ]
  },
  {
   "cell_type": "code",
   "execution_count": 6,
   "metadata": {},
   "outputs": [],
   "source": [
    "sel = 'fall'"
   ]
  },
  {
   "cell_type": "code",
   "execution_count": 7,
   "metadata": {},
   "outputs": [],
   "source": [
    "def select():\n",
    "    print('Choose a semester: ')\n",
    "    for i in range(len(final_list)):\n",
    "        print(i+1,\") \", final_list[i])\n",
    "\n",
    "    selection = int(input(\"Selection: \"))\n",
    "    return final_list[selection]"
   ]
  },
  {
   "cell_type": "code",
   "execution_count": 8,
   "metadata": {},
   "outputs": [],
   "source": [
    "def selection():\n",
    "    n = select()\n",
    "    spring = 20\n",
    "    fall = 80\n",
    "    summer1 = 40\n",
    "    summer2 = 50\n",
    "    word_list = n.split()\n",
    "    first = word_list[0]\n",
    "    middle = word_list[1]\n",
    "    last = word_list[-1]\n",
    "    #print(first, middle, last)\n",
    "    if first == 'Spring':\n",
    "        string = 'http://appsprod.tamuc.edu/Schedule/Schedule.aspx?Term='+str(last)+str(spring)\n",
    "        #print(string)\n",
    "        return string\n",
    "    if first == 'Fall':\n",
    "        string = 'http://appsprod.tamuc.edu/Schedule/Schedule.aspx?Term='+str(last)+str(fall)\n",
    "        #print(string)\n",
    "        return string\n",
    "    if first == 'Summer' and middle == 'I':\n",
    "        string = 'http://appsprod.tamuc.edu/Schedule/Schedule.aspx?Term='+str(last)+str(summer1)\n",
    "        #print(string)\n",
    "        return string\n",
    "    if first == 'Summer' and middle == 'II':\n",
    "        string = 'http://appsprod.tamuc.edu/Schedule/Schedule.aspx?Term='+str(last)+str(summer2)\n",
    "        #print(string)\n",
    "        return string"
   ]
  },
  {
   "cell_type": "code",
   "execution_count": 9,
   "metadata": {},
   "outputs": [
    {
     "name": "stdout",
     "output_type": "stream",
     "text": [
      "Choose a semester: \n",
      "1 )  Spring 2021\n",
      "2 )  Fall 2020\n",
      "3 )  Summer II 2020\n",
      "4 )  Summer I 2020\n",
      "5 )  Spring 2020\n",
      "Selection: 1\n",
      "Fall 2020\n"
     ]
    }
   ],
   "source": [
    "get_semester = select()\n",
    "print(get_semester)"
   ]
  },
  {
   "cell_type": "code",
   "execution_count": 10,
   "metadata": {},
   "outputs": [
    {
     "name": "stdout",
     "output_type": "stream",
     "text": [
      "Choose a semester: \n",
      "1 )  Spring 2021\n",
      "2 )  Fall 2020\n",
      "3 )  Summer II 2020\n",
      "4 )  Summer I 2020\n",
      "5 )  Spring 2020\n",
      "Selection: 1\n",
      "http://appsprod.tamuc.edu/Schedule/Schedule.aspx?Term=202080\n"
     ]
    }
   ],
   "source": [
    "get_link = selection()\n",
    "print(get_link)"
   ]
  },
  {
   "cell_type": "code",
   "execution_count": 11,
   "metadata": {},
   "outputs": [
    {
     "name": "stderr",
     "output_type": "stream",
     "text": [
      "D:\\Users\\abuba\\anaconda3\\lib\\site-packages\\bs4\\__init__.py:414: MarkupResemblesLocatorWarning: \"http://appsprod.tamuc.edu/Schedule/Schedule.aspx?Term=202080\" looks like a URL. Beautiful Soup is not an HTTP client. You should probably use an HTTP client like requests to get the document behind the URL, and feed that document to Beautiful Soup.\n",
      "  warnings.warn(\n"
     ]
    }
   ],
   "source": [
    "soup = BeautifulSoup(get_link, \"lxml\")"
   ]
  },
  {
   "cell_type": "code",
   "execution_count": 12,
   "metadata": {},
   "outputs": [],
   "source": [
    "headers = {'Code', 'Name', 'Prefixes'}"
   ]
  },
  {
   "cell_type": "code",
   "execution_count": 13,
   "metadata": {},
   "outputs": [],
   "source": [
    "response = requests.get(get_link)"
   ]
  },
  {
   "cell_type": "code",
   "execution_count": 14,
   "metadata": {},
   "outputs": [
    {
     "data": {
      "text/plain": [
       "200"
      ]
     },
     "execution_count": 14,
     "metadata": {},
     "output_type": "execute_result"
    }
   ],
   "source": [
    "response.status_code"
   ]
  },
  {
   "cell_type": "code",
   "execution_count": 15,
   "metadata": {},
   "outputs": [],
   "source": [
    "#response.content"
   ]
  },
  {
   "cell_type": "code",
   "execution_count": 16,
   "metadata": {},
   "outputs": [],
   "source": [
    "soup = BeautifulSoup(response.content, 'html.parser')"
   ]
  },
  {
   "cell_type": "code",
   "execution_count": null,
   "metadata": {},
   "outputs": [],
   "source": []
  },
  {
   "cell_type": "code",
   "execution_count": null,
   "metadata": {},
   "outputs": [],
   "source": []
  },
  {
   "cell_type": "code",
   "execution_count": null,
   "metadata": {},
   "outputs": [],
   "source": []
  },
  {
   "cell_type": "code",
   "execution_count": 6,
   "metadata": {},
   "outputs": [
    {
     "name": "stdout",
     "output_type": "stream",
     "text": [
      "Choose a semester: \n",
      "0 )  Spring 2021\n",
      "1 )  Fall 2020\n",
      "2 )  Summer II 2020\n",
      "3 )  Summer I 2020\n",
      "4 )  Spring 2020\n",
      "Selection: 1\n",
      "Fall 2020\n",
      "Fall 2020 >Select a department: \n",
      "0 )  Undeclared\n",
      "1 )  Accounting and Finance\n",
      "2 )  Art\n",
      "3 )  Ag Science & Natural Resources\n",
      "4 )  Biological & Environmental Sci\n",
      "5 )  Chemistry\n",
      "6 )  Coll of Innovation and Design\n",
      "7 )  Coll of Humanities/Soc Sci/Art\n",
      "8 )  Counseling\n",
      "9 )  Computer Science & Info Sys\n",
      "10 )  Curriculum and Instruction\n",
      "11 )  Educational Leadership\n",
      "12 )  Engineering & Technology\n",
      "13 )  Honors Program\n",
      "14 )  Higher Edu & Learning Technol\n",
      "15 )  Health & Human Performance\n",
      "16 )  History\n",
      "17 )  Liberal Studies\n",
      "18 )  Literature & Languages\n",
      "19 )  Mathematics\n",
      "20 )  Management & Economics\n",
      "21 )  Marketing & Business Analytics\n",
      "22 )  Music\n",
      "23 )  Nursing\n",
      "24 )  Psy, Coun, and Sped Ed\n",
      "25 )  Physics and Astronomy\n",
      "26 )  Political Science\n",
      "27 )  Psychology & Special Education\n",
      "28 )  Registrar, Office of\n",
      "29 )  UNT - ROTC\n",
      "30 )  Sociology & Criminal Justice\n",
      "31 )  Social Work\n",
      "32 )  Theatre\n",
      "Q  ) Go Back\n",
      "Selection: 1\n",
      "202080\n",
      "Fall 2020\n",
      "1\n",
      "['ACFN' 'Accounting and Finance' 'ACCT FIN ']\n",
      "http://appsprod.tamuc.edu/Schedule/Schedule.aspx?Menu=&ShowMenuDetail=&Debug=&DB=PROD&WO=&2504=Y&Dept=ACFN&Term=202080&Corq=A&Preq=S\n",
      "['Prefix', 'ID', 'Sec', 'Name', ' Instructor', 'Hours', 'Seats', 'Enroll.']\n",
      "['ACCT', '2301', '01B', 'Teed, Dan', '45', '43']\n",
      "['ACCT', '2301', '01W', 'Scott, Cheryl', '45', '45']\n",
      "['ACCT', '2301', '02B', 'Teed, Dan', '45', '40']\n",
      "['ACCT', '2301', '02W', 'Scott, Cheryl', '45', '45']\n",
      "['ACCT', '2301', '03W', 'Scott, Cheryl', '45', '45']\n",
      "['ACCT', '2302', '01W', 'Le, Thien', '45', '43']\n",
      "['ACCT', '2302', '02W', 'Le, Thien', '44', '43']\n",
      "['ACCT', '2302', '03W', 'Teed, Dan', '45', '33']\n",
      "['ACCT', '2302', 'CRW', 'Le, Thien', '1', '1']\n",
      "['ACCT', '311', '01W', 'Stewart, Vicki', '45', '44']\n",
      "['ACCT', '311', '02W', 'Stewart, Vicki', '45', '40']\n",
      "['ACCT', '311', '03W', 'Scott, Cheryl', '45', '44']\n",
      "['ACCT', '321', '01B', 'Brawand, Terry', '45', '15']\n",
      "['ACCT', '321', '02B', 'Brawand, Terry', '32', '37']\n",
      "['ACCT', '322', '01W', 'Stewart, Vicki', '45', '23']\n",
      "['ACCT', '326', '01W', 'Teed, Dan', '43', '40']\n",
      "['ACCT', '326', '02W', 'Teed, Dan', '45', '8']\n",
      "['ACCT', '326', 'CRW', 'Teed, Dan', '2', '2']\n",
      "['ACCT', '412', '01W', 'Rankin, Robert', '45', '31']\n",
      "['ACCT', '421', '01W', 'Xiang, Meifang', '9', '4']\n",
      "['ACCT', '421', 'CRW', 'Xiang, Meifang', '1', '1']\n",
      "['ACCT', '427', '01W', 'Stewart, Vicki', '45', '25']\n",
      "['ACCT', '427', '02W', 'Stewart, Vicki', '45', '15']\n",
      "['ACCT', '430', '01W', 'Hartmann, Caroline', '44', '39']\n",
      "['ACCT', '430', 'CRW', 'Hartmann, Caroline', '1', '1']\n",
      "['ACCT', '431', '02B', 'Gomez, DawnHours: 3', '5', '4']\n",
      "['ACCT', '435', '01W', 'Chen, Chu', '45', '23']\n",
      "['ACCT', '437', '01B', 'Brawand, Terry', '45', '19']\n",
      "['ACCT', '440', '01B', 'Brawand, Terry', '45', '10']\n",
      "['ACCT', '440', '01W', 'Brawand, Terry', '42', '19']\n",
      "['ACCT', '440', 'CRW', 'Brawand, Terry', '1', '3']\n",
      "['ACCT', '491', '0HE', 'Hartmann, Caroline', '1', '1']\n",
      "['ACCT', '497', '01W', 'Jamison, JohnHours: 3', '20', '3']\n",
      "['ACCT', '497', '02W', 'Gomez, Dawn', '3', '1']\n",
      "['ACCT', '501', '01W', 'Ling, Ran', '45', '39']\n",
      "['ACCT', '501', '02W', 'Ling, Ran', '45', '13']\n",
      "['ACCT', '502', '01W', 'Hsiao, Daniel', '45', '22']\n",
      "['ACCT', '521', '01W', 'Xiang, Meifang', '35', '33']\n",
      "['ACCT', '521', '02W', 'Xiang, Meifang', '45', '31']\n",
      "['ACCT', '521', '31W', 'Xiang, Meifang', '45', '8']\n",
      "['ACCT', '522', '01W', 'Opara, Michael', '45', '39']\n",
      "['ACCT', '522', '31W', 'Opara, Michael', '45', '11']\n",
      "['ACCT', '525', '01W', 'Rankin, Robert', '45', '44']\n",
      "['ACCT', '525', '02W', 'Opara, Michael', '45', '44']\n",
      "['ACCT', '525', '03W', 'Li, Shiyou', '44', '45']\n",
      "['ACCT', '525', '04B', 'Rankin, Robert', '45', '8']\n",
      "['ACCT', '527', '01W', 'Jia, Hongmei', '44', '43']\n",
      "['ACCT', '527', '31W', 'Jia, Hongmei', '44', '18']\n",
      "['ACCT', '528', '01W', 'Jia, Hongmei', '44', '22']\n",
      "['ACCT', '528', 'CRW', 'Jia, Hongmei', '1', '1']\n",
      "['ACCT', '530', '01W', 'Hartmann, Caroline', '49', '44']\n",
      "['ACCT', '530', 'CRW', 'Hartmann, Caroline', '1', '1']\n",
      "['ACCT', '538', '01W', 'Hartmann, Caroline', '50', '44']\n",
      "['ACCT', '540', '01W', 'Hamill, James', '50', '44']\n",
      "['ACCT', '550', '01W', 'Blechacz, Philip', '45', '27']\n",
      "['ACCT', '551', '01W', 'Hamill, James', '45', '12']\n",
      "['ACCT', '562', '01W', 'Hsiao, Daniel', '50', '41']\n",
      "['ACCT', '562', '31B', 'Hsiao, Daniel', '45', '6']\n",
      "['ACCT', '568', '01W', 'Garrett, Edgar', '50', '43']\n",
      "['ACCT', '575', '01W', 'Li, Shiyou', '50', '46']\n",
      "['ACCT', '575', '31B', 'Li, Shiyou', '45', '7']\n",
      "['ACCT', '580', '02B', 'Gomez, DawnHours: 3', '5', '1']\n",
      "['ACCT', '595', '01W', 'Chen, Chu', '45', '38']\n",
      "['ACCT', '595', '02W', 'Ling, Ran', '45', '34']\n",
      "['ACCT', '595', '31B', 'Chen, Chu', '45', '5']\n",
      "['FIN', '304', '01W', 'Wheeler, Ronald', '45', '45']\n",
      "['FIN', '304', '02W', 'Wheeler, Ronald', '45', '43']\n",
      "['FIN', '304', '03W', 'Aroul, Ramya', '45', '41']\n",
      "['FIN', '304', '04W', 'Sternberg, Joel', '45', '42']\n",
      "['FIN', '312', '01W', 'Nippani, Srinivas', '45', '30']\n",
      "['FIN', '400', '01W', 'Sternberg, Joel', '20', '21']\n",
      "['FIN', '404', '01W', 'Aroul, Ramya', '45', '19']\n",
      "['FIN', '410', '01W', 'Hoe, SingRu', '45', '14']\n",
      "['FIN', '415', '01W', 'Parnes, Dror', '20', '4']\n",
      "['FIN', '430', '01W', 'Parnes, Dror', '20', '22']\n",
      "['FIN', '431', '02B', 'Gomez, DawnHours: 3', '5', '2']\n",
      "['FIN', '436', '01W', 'Parnes, Dror', '20', '13']\n",
      "['FIN', '440', '01W', 'Hoe, SingRu', '20', '15']\n",
      "['FIN', '471', '01W', 'Hoe, SingRu', '20', '17']\n",
      "['FIN', '477', '01W', 'Aroul, Ramya', '20', '10']\n",
      "['FIN', '490', '0HE', 'Nippani, Srinivas', '1', '1']\n",
      "['FIN', '501', '01W', 'Aroul, Ramya', '45', '43']\n",
      "['FIN', '501', '02W', 'Lytle, James', '45', '23']\n",
      "['FIN', '504', '01W', 'Nippani, Srinivas', '50', '45']\n",
      "['FIN', '504', '04W', 'Parnes, Dror', '50', '49']\n",
      "['FIN', '510', '01W', 'Sternberg, Joel', '30', '28']\n",
      "['FIN', '512', '01W', 'Sternberg, Joel', '45', '16']\n",
      "['FIN', '515', '01W', 'Parnes, Dror', '25', '20']\n",
      "['FIN', '530', '01W', 'Parnes, Dror', '25', '24']\n",
      "['FIN', '536', '01W', 'Parnes, Dror', '25', '8']\n",
      "['FIN', '540', '01W', 'Hoe, SingRu', '25', '15']\n",
      "['FIN', '570', '01W', 'Nippani, Srinivas', '45', '24']\n",
      "['FIN', '571', '01W', 'Hoe, SingRu', '25', '7']\n",
      "['FIN', '577', '01W', 'Aroul, Ramya', '25', '21']\n",
      "['FIN', '580', '02B', 'Gomez, DawnHours: 3', '5', '1']\n",
      "['FIN', '589', '01W', 'Aroul, RamyaHours: 3', '1', '1']\n"
     ]
    }
   ],
   "source": [
    "from bs4 import BeautifulSoup\n",
    "import requests\n",
    "import numpy as np\n",
    "\n",
    "source = requests.get('http://appsprod.tamuc.edu/Schedule/Schedule.aspx').text\n",
    "\n",
    "\n",
    "soup = BeautifulSoup(source, 'lxml')\n",
    "list = []\n",
    "final_list = []\n",
    "\n",
    "\n",
    "for option in soup.find_all('option'):\n",
    "    list.append(option['value'])\n",
    "\n",
    "\n",
    "\n",
    "final_list = [i for i in list if not 'Mini' in i]\n",
    "final_list = final_list[:5]\n",
    "\n",
    "\n",
    "\n",
    "sel = 'fall'\n",
    "\n",
    "\n",
    "def select():\n",
    "    print('Choose a semester: ')\n",
    "    for i in range(len(final_list)):\n",
    "        print(i,\") \", final_list[i])\n",
    "\n",
    "    selection = int(input(\"Selection: \"))\n",
    "   # if selection < 6 and selection>=0:\n",
    "    x = final_list[selection]\n",
    "    print(x)\n",
    "    selections(x) #semester name sending\n",
    "#    else:\n",
    " #       print(\"Wrong selection kindly try again\")\n",
    "  #      select()\n",
    "\n",
    "\n",
    "def selections(n):\n",
    "    spring = 20\n",
    "    fall = 80\n",
    "    summer1 = 40\n",
    "    summer2 = 50\n",
    "    word_list = n.split()\n",
    "    first = word_list[0]\n",
    "    middle = word_list[1]\n",
    "    last = word_list[-1]\n",
    "    #print(first, middle, last)\n",
    "    if first == 'Spring':\n",
    "        string = 'http://appsprod.tamuc.edu/Schedule/Schedule.aspx?Term='+str(last)+str(spring)\n",
    "        f1 = str(last)+str(spring)\n",
    "        #print(string)\n",
    "    if first == 'Fall':\n",
    "        string = 'http://appsprod.tamuc.edu/Schedule/Schedule.aspx?Term='+str(last)+str(fall)\n",
    "        f1 = str(last)+str(fall)\n",
    "        #print(string)\n",
    "    if first == 'Summer' and middle == 'I':\n",
    "        string = 'http://appsprod.tamuc.edu/Schedule/Schedule.aspx?Term='+str(last)+str(summer1)\n",
    "        f1 = str(last)+str(summer1)\n",
    "        #print(string)\n",
    "    if first == 'Summer' and middle == 'II':\n",
    "        string = 'http://appsprod.tamuc.edu/Schedule/Schedule.aspx?Term='+str(last)+str(summer2)\n",
    "        f1 = str(last)+str(summer2)\n",
    "        #print(string)\n",
    "\n",
    "    return selection_department(n, string, f1)\n",
    "\n",
    "\n",
    "\n",
    "\n",
    "\n",
    "\n",
    "\n",
    "\n",
    "\n",
    "\n",
    "\n",
    "\n",
    "def selection_department(get_semester, get_link, year):\n",
    "    soup = BeautifulSoup(get_link, \"lxml\")\n",
    "    #headers = {'Code', 'Name', 'Prefixes'}\n",
    "    response = requests.get(get_link)\n",
    "    #response.status_code\n",
    "    soup = BeautifulSoup(response.content, 'html.parser')\n",
    "    t1 = soup.findAll(True, {\"class\":[\"StandardRowOdd\", \"StandardRowEven\"]})\n",
    "    list1 = []\n",
    "    list2 = []\n",
    "    for i in range(len(t1)):\n",
    "        x = t1[i].find_all('td')\n",
    "        for i in range(3):\n",
    "            list1.append(x[i].text)\n",
    "\n",
    "        list2.append(list1)\n",
    "        \n",
    "\n",
    "    \n",
    "        \n",
    "    list3 = []\n",
    "    list3 = list2[1]\n",
    "    size = int(len(list3)/3)\n",
    "\n",
    "    a = np.array(list3).reshape(size,3)\n",
    "    #print(a)\n",
    "    print(get_semester,'>Select a department: ')\n",
    "    for i in range(len(a)):\n",
    "        print(i,\") \", a[i][1])\n",
    "\n",
    "    print(\"Q  ) Go Back\")\n",
    "    selection = str(input(\"Selection: \"))\n",
    "    if selection == 'Q':\n",
    "        select()\n",
    "\n",
    "    selection2(year, get_semester, a, selection, get_link)\n",
    "\n",
    "\n",
    "\n",
    "\n",
    "\n",
    "def selection2(year, get_semester, a, selection, get_link):\n",
    "    print(year)\n",
    "    print(get_semester)\n",
    "    print(selection)\n",
    "    i = int(selection)\n",
    "    print(a[i])\n",
    "    url = 'http://appsprod.tamuc.edu/Schedule/Schedule.aspx?Menu=&ShowMenuDetail=&Debug=&DB=PROD&WO=&2504=Y&Dept='+str(a[i][0])+'&Term='+str(year)+'&Corq=A&Preq=S'\n",
    "    print(url)\n",
    "\n",
    "    soup = BeautifulSoup(url, \"lxml\")\n",
    "    #headers = {'Code', 'Name', 'Prefixes'}\n",
    "    response = requests.get(url)\n",
    "    #response.status_code\n",
    "    soup = BeautifulSoup(response.content, 'html.parser')\n",
    "    list1 = []\n",
    "    list2 = []\n",
    "    t1 = soup.findAll(True, {\"class\":[\"StandardRowOdd\", \"StandardRowEven\", \"StandardSubHeader\"]})\n",
    "    for i in range(len(t1)):\n",
    "        x = t1[i].find_all('td')\n",
    "        for i in range(5):\n",
    "            list1.append(x[i].text)\n",
    "        \n",
    "        list2.append(list1)\n",
    "\n",
    "    \n",
    "    list3 = []\n",
    "    list3 = list2[1]\n",
    "    size = int(len(list3)/5)\n",
    "\n",
    "    a = np.array(list3).reshape(size,5)\n",
    "    #print(a)\n",
    "    \n",
    "    final_list1 = []\n",
    "    \n",
    "    \n",
    "    for i in range(len(a)):\n",
    "        if a[i][4] == '':\n",
    "            x1 = a[i][0]\n",
    "            y1 = a[i][1]\n",
    "            z1 = a[i][2]\n",
    "        else:\n",
    "            x2 = a[i][0]\n",
    "            y2 = a[i][2]\n",
    "            z2 = a[i][3]\n",
    "            z3 = a[i][4]\n",
    "            final_list1.append([x1, y1, x2, y2, z2, z3])\n",
    "    list_col = ['Prefix', 'ID', 'Sec', 'Name',' Instructor', 'Hours', 'Seats', 'Enroll.']\n",
    "    #print(list_col)\n",
    "    #for i in range(len(final_list1)):\n",
    "    #    print(final_list1[i])\n",
    "        \n",
    "    print('1 ) List courses by instruction name')\n",
    "    print('2 ) List courses by capacity')\n",
    "    print('3 ) List courses by enrollment size')\n",
    "    print('4 ) List courses by course prefix')\n",
    "    print('5 ) List courses by csv file')\n",
    "    print('6 ) Search course by instruction name')\n",
    "    print('7 ) Search courses by course prefix')\n",
    "    print('Q ) Go back')\n",
    "\n",
    "    \n",
    "    selection = str(input(\"Selection: \"))\n",
    "    if selection == 'Q':\n",
    "        selection_department(get_semester, get_link, year)\n",
    "    if selection == '1':\n",
    "        sort1 = sorted(final_list1, key=lambda :l[3],reverse=False)\n",
    "        for i in range(len(sort1)):\n",
    "            print(sort1[i])\n",
    "        \n",
    "        \n",
    "    print(str(get_semester)+' > '+ str(a[i][1])+' > Select an option: ')\n",
    "    \n",
    "    \n",
    "   \n",
    "    \n",
    "    \n",
    "\n",
    "select()"
   ]
  },
  {
   "cell_type": "code",
   "execution_count": null,
   "metadata": {},
   "outputs": [],
   "source": [
    "selection_department()"
   ]
  },
  {
   "cell_type": "code",
   "execution_count": 25,
   "metadata": {},
   "outputs": [],
   "source": [
    "from bs4 import BeautifulSoup\n",
    "import requests\n",
    "import numpy as np\n",
    "\n",
    "source = requests.get('http://appsprod.tamuc.edu/Schedule/Schedule.aspx').text\n",
    "\n",
    "\n",
    "soup = BeautifulSoup(source, 'lxml')\n",
    "list = []\n",
    "final_list = []\n",
    "\n",
    "\n",
    "for option in soup.find_all('option'):\n",
    "    list.append(option['value'])\n",
    "\n",
    "\n",
    "\n",
    "final_list = [i for i in list if not 'Mini' in i]\n",
    "final_list = final_list[:5]\n",
    "\n",
    "\n",
    "\n",
    "sel = 'fall'\n",
    "\n",
    "\n",
    "def select():\n",
    "    print('Choose a semester: ')\n",
    "    for i in range(len(final_list)):\n",
    "        print(i,\") \", final_list[i])\n",
    "\n",
    "    selection = int(input(\"Selection: \"))\n",
    "   # if selection < 6 and selection>=0:\n",
    "    x = final_list[selection]\n",
    "    print(x)\n",
    "    selections(x) #semester name sending\n",
    "#    else:\n",
    " #       print(\"Wrong selection kindly try again\")\n",
    "  #      select()\n",
    "\n",
    "\n",
    "def selections(n):\n",
    "    spring = 20\n",
    "    fall = 80\n",
    "    summer1 = 40\n",
    "    summer2 = 50\n",
    "    word_list = n.split()\n",
    "    first = word_list[0]\n",
    "    middle = word_list[1]\n",
    "    last = word_list[-1]\n",
    "    #print(first, middle, last)\n",
    "    if first == 'Spring':\n",
    "        string = 'http://appsprod.tamuc.edu/Schedule/Schedule.aspx?Term='+str(last)+str(spring)\n",
    "        f1 = str(last)+str(spring)\n",
    "        #print(string)\n",
    "    if first == 'Fall':\n",
    "        string = 'http://appsprod.tamuc.edu/Schedule/Schedule.aspx?Term='+str(last)+str(fall)\n",
    "        f1 = str(last)+str(fall)\n",
    "        #print(string)\n",
    "    if first == 'Summer' and middle == 'I':\n",
    "        string = 'http://appsprod.tamuc.edu/Schedule/Schedule.aspx?Term='+str(last)+str(summer1)\n",
    "        f1 = str(last)+str(summer1)\n",
    "        #print(string)\n",
    "    if first == 'Summer' and middle == 'II':\n",
    "        string = 'http://appsprod.tamuc.edu/Schedule/Schedule.aspx?Term='+str(last)+str(summer2)\n",
    "        f1 = str(last)+str(summer2)\n",
    "        #print(string)\n",
    "\n",
    "    return selection_department(n, string, f1)\n",
    "\n",
    "\n",
    "\n",
    "\n",
    "\n",
    "\n",
    "\n",
    "\n",
    "\n",
    "\n",
    "\n",
    "\n",
    "def selection_department(get_semester, get_link, year):\n",
    "    soup = BeautifulSoup(get_link, \"lxml\")\n",
    "    #headers = {'Code', 'Name', 'Prefixes'}\n",
    "    response = requests.get(get_link)\n",
    "    #response.status_code\n",
    "    soup = BeautifulSoup(response.content, 'html.parser')\n",
    "    t1 = soup.findAll(True, {\"class\":[\"StandardRowOdd\", \"StandardRowEven\"]})\n",
    "    list1 = []\n",
    "    list2 = []\n",
    "    for i in range(len(t1)):\n",
    "        x = t1[i].find_all('td')\n",
    "        for i in range(3):\n",
    "            list1.append(x[i].text)\n",
    "\n",
    "        list2.append(list1)\n",
    "        \n",
    "\n",
    "    \n",
    "        \n",
    "    list3 = []\n",
    "    list3 = list2[1]\n",
    "    size = int(len(list3)/3)\n",
    "\n",
    "    a = np.array(list3).reshape(size,3)\n",
    "    #print(a)\n",
    "    print(get_semester,'>Select a department: ')\n",
    "    for i in range(len(a)):\n",
    "        print(i,\") \", a[i][1])\n",
    "\n",
    "    print(\"Q  ) Go Back\")\n",
    "    selection = str(input(\"Selection: \"))\n",
    "    if selection == 'Q':\n",
    "        select()\n",
    "\n",
    "    selection2(year, get_semester, a, selection)\n",
    "\n"
   ]
  },
  {
   "cell_type": "code",
   "execution_count": 23,
   "metadata": {},
   "outputs": [
    {
     "name": "stdout",
     "output_type": "stream",
     "text": [
      "Choose a semester: \n",
      "0 )  Spring 2021\n",
      "1 )  Fall 2020\n",
      "2 )  Summer II 2020\n",
      "3 )  Summer I 2020\n",
      "4 )  Spring 2020\n",
      "Selection: 0\n",
      "Spring 2021\n"
     ]
    },
    {
     "name": "stderr",
     "output_type": "stream",
     "text": [
      "D:\\Users\\abuba\\anaconda3\\lib\\site-packages\\bs4\\__init__.py:414: MarkupResemblesLocatorWarning: \"http://appsprod.tamuc.edu/Schedule/Schedule.aspx?Term=202120\" looks like a URL. Beautiful Soup is not an HTTP client. You should probably use an HTTP client like requests to get the document behind the URL, and feed that document to Beautiful Soup.\n",
      "  warnings.warn(\n"
     ]
    },
    {
     "ename": "NameError",
     "evalue": "name 't2' is not defined",
     "output_type": "error",
     "traceback": [
      "\u001b[1;31m---------------------------------------------------------------------------\u001b[0m",
      "\u001b[1;31mNameError\u001b[0m                                 Traceback (most recent call last)",
      "\u001b[1;32m<ipython-input-23-404106b1126f>\u001b[0m in \u001b[0;36m<module>\u001b[1;34m\u001b[0m\n\u001b[0;32m     31\u001b[0m     \u001b[0mprint\u001b[0m\u001b[1;33m(\u001b[0m\u001b[0ma\u001b[0m\u001b[1;33m)\u001b[0m\u001b[1;33m\u001b[0m\u001b[1;33m\u001b[0m\u001b[0m\n\u001b[0;32m     32\u001b[0m \u001b[1;33m\u001b[0m\u001b[0m\n\u001b[1;32m---> 33\u001b[1;33m \u001b[0mselect\u001b[0m\u001b[1;33m(\u001b[0m\u001b[1;33m)\u001b[0m\u001b[1;33m\u001b[0m\u001b[1;33m\u001b[0m\u001b[0m\n\u001b[0m",
      "\u001b[1;32m<ipython-input-22-1bc32426af88>\u001b[0m in \u001b[0;36mselect\u001b[1;34m()\u001b[0m\n\u001b[0;32m     33\u001b[0m     \u001b[0mx\u001b[0m \u001b[1;33m=\u001b[0m \u001b[0mfinal_list\u001b[0m\u001b[1;33m[\u001b[0m\u001b[0mselection\u001b[0m\u001b[1;33m]\u001b[0m\u001b[1;33m\u001b[0m\u001b[1;33m\u001b[0m\u001b[0m\n\u001b[0;32m     34\u001b[0m     \u001b[0mprint\u001b[0m\u001b[1;33m(\u001b[0m\u001b[0mx\u001b[0m\u001b[1;33m)\u001b[0m\u001b[1;33m\u001b[0m\u001b[1;33m\u001b[0m\u001b[0m\n\u001b[1;32m---> 35\u001b[1;33m     \u001b[0mselections\u001b[0m\u001b[1;33m(\u001b[0m\u001b[0mx\u001b[0m\u001b[1;33m)\u001b[0m \u001b[1;31m#semester name sending\u001b[0m\u001b[1;33m\u001b[0m\u001b[1;33m\u001b[0m\u001b[0m\n\u001b[0m\u001b[0;32m     36\u001b[0m \u001b[1;31m#    else:\u001b[0m\u001b[1;33m\u001b[0m\u001b[1;33m\u001b[0m\u001b[1;33m\u001b[0m\u001b[0m\n\u001b[0;32m     37\u001b[0m  \u001b[1;31m#       print(\"Wrong selection kindly try again\")\u001b[0m\u001b[1;33m\u001b[0m\u001b[1;33m\u001b[0m\u001b[1;33m\u001b[0m\u001b[0m\n",
      "\u001b[1;32m<ipython-input-22-1bc32426af88>\u001b[0m in \u001b[0;36mselections\u001b[1;34m(n)\u001b[0m\n\u001b[0;32m     66\u001b[0m         \u001b[1;31m#print(string)\u001b[0m\u001b[1;33m\u001b[0m\u001b[1;33m\u001b[0m\u001b[1;33m\u001b[0m\u001b[0m\n\u001b[0;32m     67\u001b[0m \u001b[1;33m\u001b[0m\u001b[0m\n\u001b[1;32m---> 68\u001b[1;33m     \u001b[1;32mreturn\u001b[0m \u001b[0mselection_department\u001b[0m\u001b[1;33m(\u001b[0m\u001b[0mn\u001b[0m\u001b[1;33m,\u001b[0m \u001b[0mstring\u001b[0m\u001b[1;33m,\u001b[0m \u001b[0mf1\u001b[0m\u001b[1;33m)\u001b[0m\u001b[1;33m\u001b[0m\u001b[1;33m\u001b[0m\u001b[0m\n\u001b[0m\u001b[0;32m     69\u001b[0m \u001b[1;33m\u001b[0m\u001b[0m\n\u001b[0;32m     70\u001b[0m \u001b[1;33m\u001b[0m\u001b[0m\n",
      "\u001b[1;32m<ipython-input-22-1bc32426af88>\u001b[0m in \u001b[0;36mselection_department\u001b[1;34m(get_semester, get_link, year)\u001b[0m\n\u001b[0;32m     88\u001b[0m     \u001b[0mlist1\u001b[0m \u001b[1;33m=\u001b[0m \u001b[1;33m[\u001b[0m\u001b[1;33m]\u001b[0m\u001b[1;33m\u001b[0m\u001b[1;33m\u001b[0m\u001b[0m\n\u001b[0;32m     89\u001b[0m     \u001b[0mlist2\u001b[0m \u001b[1;33m=\u001b[0m \u001b[1;33m[\u001b[0m\u001b[1;33m]\u001b[0m\u001b[1;33m\u001b[0m\u001b[1;33m\u001b[0m\u001b[0m\n\u001b[1;32m---> 90\u001b[1;33m     \u001b[1;32mfor\u001b[0m \u001b[0mi\u001b[0m \u001b[1;32min\u001b[0m \u001b[0mrange\u001b[0m\u001b[1;33m(\u001b[0m\u001b[0mlen\u001b[0m\u001b[1;33m(\u001b[0m\u001b[0mt2\u001b[0m\u001b[1;33m)\u001b[0m\u001b[1;33m)\u001b[0m\u001b[1;33m:\u001b[0m\u001b[1;33m\u001b[0m\u001b[1;33m\u001b[0m\u001b[0m\n\u001b[0m\u001b[0;32m     91\u001b[0m         \u001b[0mx\u001b[0m \u001b[1;33m=\u001b[0m \u001b[0mt1\u001b[0m\u001b[1;33m[\u001b[0m\u001b[0mi\u001b[0m\u001b[1;33m]\u001b[0m\u001b[1;33m.\u001b[0m\u001b[0mfind_all\u001b[0m\u001b[1;33m(\u001b[0m\u001b[1;34m'td'\u001b[0m\u001b[1;33m)\u001b[0m\u001b[1;33m\u001b[0m\u001b[1;33m\u001b[0m\u001b[0m\n\u001b[0;32m     92\u001b[0m         \u001b[1;32mfor\u001b[0m \u001b[0mi\u001b[0m \u001b[1;32min\u001b[0m \u001b[0mrange\u001b[0m\u001b[1;33m(\u001b[0m\u001b[1;36m3\u001b[0m\u001b[1;33m)\u001b[0m\u001b[1;33m:\u001b[0m\u001b[1;33m\u001b[0m\u001b[1;33m\u001b[0m\u001b[0m\n",
      "\u001b[1;31mNameError\u001b[0m: name 't2' is not defined"
     ]
    }
   ],
   "source": [
    "\n",
    "def selection2(year, get_semester, a, selection):\n",
    "    print(year)\n",
    "    print(get_semester)\n",
    "    print(selection)\n",
    "    i = int(selection)\n",
    "    print(a[i])\n",
    "    url = 'http://appsprod.tamuc.edu/Schedule/Schedule.aspx?Menu=&ShowMenuDetail=&Debug=&DB=PROD&WO=&2504=Y&Dept='+str(a[i][0])+'&Term='+str(year)+'&Corq=A&Preq=S'\n",
    "    print(url)\n",
    "\n",
    "    soup = BeautifulSoup(url, \"lxml\")\n",
    "    #headers = {'Code', 'Name', 'Prefixes'}\n",
    "    response = requests.get(url)\n",
    "    #response.status_code\n",
    "    soup = BeautifulSoup(response.content, 'html.parser')\n",
    "    list1 = []\n",
    "    list2 = []\n",
    "    t1 = soup.findAll(True, {\"class\":[\"StandardRowOdd\", \"StandardRowEven\", \"StandardSubHeader\"]})\n",
    "    for i in range(len(t1)):\n",
    "        x = t1[i].find_all('td')\n",
    "        for i in range(5):\n",
    "            list1.append(x[i].text)\n",
    "        \n",
    "        list2.append(list1)\n",
    "\n",
    "\n",
    "    list3 = []\n",
    "    list3 = list2[1]\n",
    "    size = int(len(list3)/5)\n",
    "\n",
    "    a = np.array(list3).reshape(size,5)\n",
    "    print(a)\n",
    "\n",
    "select()"
   ]
  },
  {
   "cell_type": "code",
   "execution_count": null,
   "metadata": {},
   "outputs": [],
   "source": []
  },
  {
   "cell_type": "code",
   "execution_count": null,
   "metadata": {},
   "outputs": [],
   "source": []
  },
  {
   "cell_type": "code",
   "execution_count": null,
   "metadata": {},
   "outputs": [],
   "source": []
  },
  {
   "cell_type": "code",
   "execution_count": null,
   "metadata": {},
   "outputs": [],
   "source": []
  },
  {
   "cell_type": "code",
   "execution_count": 75,
   "metadata": {},
   "outputs": [
    {
     "data": {
      "text/plain": [
       "'\\n0000UndeclaredTCOL \\n'"
      ]
     },
     "execution_count": 75,
     "metadata": {},
     "output_type": "execute_result"
    }
   ],
   "source": [
    "t1[0].text"
   ]
  },
  {
   "cell_type": "code",
   "execution_count": 78,
   "metadata": {},
   "outputs": [
    {
     "data": {
      "text/plain": [
       "'0000UndeclaredTCOL'"
      ]
     },
     "execution_count": 78,
     "metadata": {},
     "output_type": "execute_result"
    }
   ],
   "source": [
    "t1[0].text.strip()"
   ]
  },
  {
   "cell_type": "code",
   "execution_count": 79,
   "metadata": {},
   "outputs": [
    {
     "data": {
      "text/plain": [
       "[<tr class=\"StandardRowOdd\">\n",
       " <td colspan=\"1\" style=\"text-align:left;padding-left:3px;padding-right:3px;\"><b><a class=\"nav\" href=\"?Menu=&amp;ShowMenuDetail=&amp;Debug=&amp;DB=PROD&amp;WO=&amp;2504=Y&amp;Dept=0000&amp;Term=202080&amp;Corq=A&amp;Preq=S\"><span onclick=\"javascript:ShowProgress();\">0000</span></a></b></td><td colspan=\"1\" style=\"text-align:left;padding-left:3px;padding-right:3px;\"><b><a class=\"nav\" href=\"?Menu=&amp;ShowMenuDetail=&amp;Debug=&amp;DB=PROD&amp;WO=&amp;2504=Y&amp;Dept=0000&amp;Term=202080&amp;Corq=A&amp;Preq=S\"><span onclick=\"javascript:ShowProgress();\">Undeclared</span></a></b></td><td colspan=\"1\" style=\"text-align:left;padding-left:3px;padding-right:3px;\"><b><a class=\"nav\" href=\"?Menu=&amp;ShowMenuDetail=&amp;Debug=&amp;DB=PROD&amp;WO=&amp;2504=Y&amp;Dept=0000&amp;Term=202080&amp;Corq=A&amp;Preq=S\"><span onclick=\"javascript:ShowProgress();\">TCOL </span></a></b></td>\n",
       " </tr>,\n",
       " <tr class=\"StandardRowOdd\">\n",
       " <td colspan=\"1\" style=\"text-align:left;padding-left:3px;padding-right:3px;\"><b><a class=\"nav\" href=\"?Menu=&amp;ShowMenuDetail=&amp;Debug=&amp;DB=PROD&amp;WO=&amp;2504=Y&amp;Dept=ART&amp;Term=202080&amp;Corq=A&amp;Preq=S\"><span onclick=\"javascript:ShowProgress();\">ART</span></a></b></td><td colspan=\"1\" style=\"text-align:left;padding-left:3px;padding-right:3px;\"><b><a class=\"nav\" href=\"?Menu=&amp;ShowMenuDetail=&amp;Debug=&amp;DB=PROD&amp;WO=&amp;2504=Y&amp;Dept=ART&amp;Term=202080&amp;Corq=A&amp;Preq=S\"><span onclick=\"javascript:ShowProgress();\">Art</span></a></b></td><td colspan=\"1\" style=\"text-align:left;padding-left:3px;padding-right:3px;\"><b><a class=\"nav\" href=\"?Menu=&amp;ShowMenuDetail=&amp;Debug=&amp;DB=PROD&amp;WO=&amp;2504=Y&amp;Dept=ART&amp;Term=202080&amp;Corq=A&amp;Preq=S\"><span onclick=\"javascript:ShowProgress();\">ART ARTS PHO </span></a></b></td>\n",
       " </tr>,\n",
       " <tr class=\"StandardRowOdd\">\n",
       " <td colspan=\"1\" style=\"text-align:left;padding-left:3px;padding-right:3px;\"><b><a class=\"nav\" href=\"?Menu=&amp;ShowMenuDetail=&amp;Debug=&amp;DB=PROD&amp;WO=&amp;2504=Y&amp;Dept=BESC&amp;Term=202080&amp;Corq=A&amp;Preq=S\"><span onclick=\"javascript:ShowProgress();\">BESC</span></a></b></td><td colspan=\"1\" style=\"text-align:left;padding-left:3px;padding-right:3px;\"><b><a class=\"nav\" href=\"?Menu=&amp;ShowMenuDetail=&amp;Debug=&amp;DB=PROD&amp;WO=&amp;2504=Y&amp;Dept=BESC&amp;Term=202080&amp;Corq=A&amp;Preq=S\"><span onclick=\"javascript:ShowProgress();\">Biological &amp; Environmental Sci</span></a></b></td><td colspan=\"1\" style=\"text-align:left;padding-left:3px;padding-right:3px;\"><b><a class=\"nav\" href=\"?Menu=&amp;ShowMenuDetail=&amp;Debug=&amp;DB=PROD&amp;WO=&amp;2504=Y&amp;Dept=BESC&amp;Term=202080&amp;Corq=A&amp;Preq=S\"><span onclick=\"javascript:ShowProgress();\">BIOL BSC ENVS GEOL </span></a></b></td>\n",
       " </tr>,\n",
       " <tr class=\"StandardRowOdd\">\n",
       " <td colspan=\"1\" style=\"text-align:left;padding-left:3px;padding-right:3px;\"><b><a class=\"nav\" href=\"?Menu=&amp;ShowMenuDetail=&amp;Debug=&amp;DB=PROD&amp;WO=&amp;2504=Y&amp;Dept=CID&amp;Term=202080&amp;Corq=A&amp;Preq=S\"><span onclick=\"javascript:ShowProgress();\">CID</span></a></b></td><td colspan=\"1\" style=\"text-align:left;padding-left:3px;padding-right:3px;\"><b><a class=\"nav\" href=\"?Menu=&amp;ShowMenuDetail=&amp;Debug=&amp;DB=PROD&amp;WO=&amp;2504=Y&amp;Dept=CID&amp;Term=202080&amp;Corq=A&amp;Preq=S\"><span onclick=\"javascript:ShowProgress();\">Coll of Innovation and Design</span></a></b></td><td colspan=\"1\" style=\"text-align:left;padding-left:3px;padding-right:3px;\"><b><a class=\"nav\" href=\"?Menu=&amp;ShowMenuDetail=&amp;Debug=&amp;DB=PROD&amp;WO=&amp;2504=Y&amp;Dept=CID&amp;Term=202080&amp;Corq=A&amp;Preq=S\"><span onclick=\"javascript:ShowProgress();\">BAAS BGS CJCB FLC ORGL UNCO </span></a></b></td>\n",
       " </tr>,\n",
       " <tr class=\"StandardRowOdd\">\n",
       " <td colspan=\"1\" style=\"text-align:left;padding-left:3px;padding-right:3px;\"><b><a class=\"nav\" href=\"?Menu=&amp;ShowMenuDetail=&amp;Debug=&amp;DB=PROD&amp;WO=&amp;2504=Y&amp;Dept=COUN&amp;Term=202080&amp;Corq=A&amp;Preq=S\"><span onclick=\"javascript:ShowProgress();\">COUN</span></a></b></td><td colspan=\"1\" style=\"text-align:left;padding-left:3px;padding-right:3px;\"><b><a class=\"nav\" href=\"?Menu=&amp;ShowMenuDetail=&amp;Debug=&amp;DB=PROD&amp;WO=&amp;2504=Y&amp;Dept=COUN&amp;Term=202080&amp;Corq=A&amp;Preq=S\"><span onclick=\"javascript:ShowProgress();\">Counseling</span></a></b></td><td colspan=\"1\" style=\"text-align:left;padding-left:3px;padding-right:3px;\"><b><a class=\"nav\" href=\"?Menu=&amp;ShowMenuDetail=&amp;Debug=&amp;DB=PROD&amp;WO=&amp;2504=Y&amp;Dept=COUN&amp;Term=202080&amp;Corq=A&amp;Preq=S\"><span onclick=\"javascript:ShowProgress();\">COUN </span></a></b></td>\n",
       " </tr>,\n",
       " <tr class=\"StandardRowOdd\">\n",
       " <td colspan=\"1\" style=\"text-align:left;padding-left:3px;padding-right:3px;\"><b><a class=\"nav\" href=\"?Menu=&amp;ShowMenuDetail=&amp;Debug=&amp;DB=PROD&amp;WO=&amp;2504=Y&amp;Dept=EDCI&amp;Term=202080&amp;Corq=A&amp;Preq=S\"><span onclick=\"javascript:ShowProgress();\">EDCI</span></a></b></td><td colspan=\"1\" style=\"text-align:left;padding-left:3px;padding-right:3px;\"><b><a class=\"nav\" href=\"?Menu=&amp;ShowMenuDetail=&amp;Debug=&amp;DB=PROD&amp;WO=&amp;2504=Y&amp;Dept=EDCI&amp;Term=202080&amp;Corq=A&amp;Preq=S\"><span onclick=\"javascript:ShowProgress();\">Curriculum and Instruction</span></a></b></td><td colspan=\"1\" style=\"text-align:left;padding-left:3px;padding-right:3px;\"><b><a class=\"nav\" href=\"?Menu=&amp;ShowMenuDetail=&amp;Debug=&amp;DB=PROD&amp;WO=&amp;2504=Y&amp;Dept=EDCI&amp;Term=202080&amp;Corq=A&amp;Preq=S\"><span onclick=\"javascript:ShowProgress();\">BLED ECE EDCI ELED MLED RDG SED </span></a></b></td>\n",
       " </tr>,\n",
       " <tr class=\"StandardRowOdd\">\n",
       " <td colspan=\"1\" style=\"text-align:left;padding-left:3px;padding-right:3px;\"><b><a class=\"nav\" href=\"?Menu=&amp;ShowMenuDetail=&amp;Debug=&amp;DB=PROD&amp;WO=&amp;2504=Y&amp;Dept=ET&amp;Term=202080&amp;Corq=A&amp;Preq=S\"><span onclick=\"javascript:ShowProgress();\">ET</span></a></b></td><td colspan=\"1\" style=\"text-align:left;padding-left:3px;padding-right:3px;\"><b><a class=\"nav\" href=\"?Menu=&amp;ShowMenuDetail=&amp;Debug=&amp;DB=PROD&amp;WO=&amp;2504=Y&amp;Dept=ET&amp;Term=202080&amp;Corq=A&amp;Preq=S\"><span onclick=\"javascript:ShowProgress();\">Engineering &amp; Technology</span></a></b></td><td colspan=\"1\" style=\"text-align:left;padding-left:3px;padding-right:3px;\"><b><a class=\"nav\" href=\"?Menu=&amp;ShowMenuDetail=&amp;Debug=&amp;DB=PROD&amp;WO=&amp;2504=Y&amp;Dept=ET&amp;Term=202080&amp;Corq=A&amp;Preq=S\"><span onclick=\"javascript:ShowProgress();\">CONE EE ENGR IE TMGT </span></a></b></td>\n",
       " </tr>,\n",
       " <tr class=\"StandardRowOdd\">\n",
       " <td colspan=\"1\" style=\"text-align:left;padding-left:3px;padding-right:3px;\"><b><a class=\"nav\" href=\"?Menu=&amp;ShowMenuDetail=&amp;Debug=&amp;DB=PROD&amp;WO=&amp;2504=Y&amp;Dept=HELT&amp;Term=202080&amp;Corq=A&amp;Preq=S\"><span onclick=\"javascript:ShowProgress();\">HELT</span></a></b></td><td colspan=\"1\" style=\"text-align:left;padding-left:3px;padding-right:3px;\"><b><a class=\"nav\" href=\"?Menu=&amp;ShowMenuDetail=&amp;Debug=&amp;DB=PROD&amp;WO=&amp;2504=Y&amp;Dept=HELT&amp;Term=202080&amp;Corq=A&amp;Preq=S\"><span onclick=\"javascript:ShowProgress();\">Higher Edu &amp; Learning Technol</span></a></b></td><td colspan=\"1\" style=\"text-align:left;padding-left:3px;padding-right:3px;\"><b><a class=\"nav\" href=\"?Menu=&amp;ShowMenuDetail=&amp;Debug=&amp;DB=PROD&amp;WO=&amp;2504=Y&amp;Dept=HELT&amp;Term=202080&amp;Corq=A&amp;Preq=S\"><span onclick=\"javascript:ShowProgress();\">EDUC ETEC HIED LIS OLT </span></a></b></td>\n",
       " </tr>,\n",
       " <tr class=\"StandardRowOdd\">\n",
       " <td colspan=\"1\" style=\"text-align:left;padding-left:3px;padding-right:3px;\"><b><a class=\"nav\" href=\"?Menu=&amp;ShowMenuDetail=&amp;Debug=&amp;DB=PROD&amp;WO=&amp;2504=Y&amp;Dept=HIST&amp;Term=202080&amp;Corq=A&amp;Preq=S\"><span onclick=\"javascript:ShowProgress();\">HIST</span></a></b></td><td colspan=\"1\" style=\"text-align:left;padding-left:3px;padding-right:3px;\"><b><a class=\"nav\" href=\"?Menu=&amp;ShowMenuDetail=&amp;Debug=&amp;DB=PROD&amp;WO=&amp;2504=Y&amp;Dept=HIST&amp;Term=202080&amp;Corq=A&amp;Preq=S\"><span onclick=\"javascript:ShowProgress();\">History</span></a></b></td><td colspan=\"1\" style=\"text-align:left;padding-left:3px;padding-right:3px;\"><b><a class=\"nav\" href=\"?Menu=&amp;ShowMenuDetail=&amp;Debug=&amp;DB=PROD&amp;WO=&amp;2504=Y&amp;Dept=HIST&amp;Term=202080&amp;Corq=A&amp;Preq=S\"><span onclick=\"javascript:ShowProgress();\">HIST </span></a></b></td>\n",
       " </tr>,\n",
       " <tr class=\"StandardRowOdd\">\n",
       " <td colspan=\"1\" style=\"text-align:left;padding-left:3px;padding-right:3px;\"><b><a class=\"nav\" href=\"?Menu=&amp;ShowMenuDetail=&amp;Debug=&amp;DB=PROD&amp;WO=&amp;2504=Y&amp;Dept=LITL&amp;Term=202080&amp;Corq=A&amp;Preq=S\"><span onclick=\"javascript:ShowProgress();\">LITL</span></a></b></td><td colspan=\"1\" style=\"text-align:left;padding-left:3px;padding-right:3px;\"><b><a class=\"nav\" href=\"?Menu=&amp;ShowMenuDetail=&amp;Debug=&amp;DB=PROD&amp;WO=&amp;2504=Y&amp;Dept=LITL&amp;Term=202080&amp;Corq=A&amp;Preq=S\"><span onclick=\"javascript:ShowProgress();\">Literature &amp; Languages</span></a></b></td><td colspan=\"1\" style=\"text-align:left;padding-left:3px;padding-right:3px;\"><b><a class=\"nav\" href=\"?Menu=&amp;ShowMenuDetail=&amp;Debug=&amp;DB=PROD&amp;WO=&amp;2504=Y&amp;Dept=LITL&amp;Term=202080&amp;Corq=A&amp;Preq=S\"><span onclick=\"javascript:ShowProgress();\">COMS ENG FRE MMJ PHIL SPA </span></a></b></td>\n",
       " </tr>,\n",
       " <tr class=\"StandardRowOdd\">\n",
       " <td colspan=\"1\" style=\"text-align:left;padding-left:3px;padding-right:3px;\"><b><a class=\"nav\" href=\"?Menu=&amp;ShowMenuDetail=&amp;Debug=&amp;DB=PROD&amp;WO=&amp;2504=Y&amp;Dept=MGEC&amp;Term=202080&amp;Corq=A&amp;Preq=S\"><span onclick=\"javascript:ShowProgress();\">MGEC</span></a></b></td><td colspan=\"1\" style=\"text-align:left;padding-left:3px;padding-right:3px;\"><b><a class=\"nav\" href=\"?Menu=&amp;ShowMenuDetail=&amp;Debug=&amp;DB=PROD&amp;WO=&amp;2504=Y&amp;Dept=MGEC&amp;Term=202080&amp;Corq=A&amp;Preq=S\"><span onclick=\"javascript:ShowProgress();\">Management &amp; Economics</span></a></b></td><td colspan=\"1\" style=\"text-align:left;padding-left:3px;padding-right:3px;\"><b><a class=\"nav\" href=\"?Menu=&amp;ShowMenuDetail=&amp;Debug=&amp;DB=PROD&amp;WO=&amp;2504=Y&amp;Dept=MGEC&amp;Term=202080&amp;Corq=A&amp;Preq=S\"><span onclick=\"javascript:ShowProgress();\">ECO MGT </span></a></b></td>\n",
       " </tr>,\n",
       " <tr class=\"StandardRowOdd\">\n",
       " <td colspan=\"1\" style=\"text-align:left;padding-left:3px;padding-right:3px;\"><b><a class=\"nav\" href=\"?Menu=&amp;ShowMenuDetail=&amp;Debug=&amp;DB=PROD&amp;WO=&amp;2504=Y&amp;Dept=MUS&amp;Term=202080&amp;Corq=A&amp;Preq=S\"><span onclick=\"javascript:ShowProgress();\">MUS</span></a></b></td><td colspan=\"1\" style=\"text-align:left;padding-left:3px;padding-right:3px;\"><b><a class=\"nav\" href=\"?Menu=&amp;ShowMenuDetail=&amp;Debug=&amp;DB=PROD&amp;WO=&amp;2504=Y&amp;Dept=MUS&amp;Term=202080&amp;Corq=A&amp;Preq=S\"><span onclick=\"javascript:ShowProgress();\">Music</span></a></b></td><td colspan=\"1\" style=\"text-align:left;padding-left:3px;padding-right:3px;\"><b><a class=\"nav\" href=\"?Menu=&amp;ShowMenuDetail=&amp;Debug=&amp;DB=PROD&amp;WO=&amp;2504=Y&amp;Dept=MUS&amp;Term=202080&amp;Corq=A&amp;Preq=S\"><span onclick=\"javascript:ShowProgress();\">MUS </span></a></b></td>\n",
       " </tr>,\n",
       " <tr class=\"StandardRowOdd\">\n",
       " <td colspan=\"1\" style=\"text-align:left;padding-left:3px;padding-right:3px;\"><b><a class=\"nav\" href=\"?Menu=&amp;ShowMenuDetail=&amp;Debug=&amp;DB=PROD&amp;WO=&amp;2504=Y&amp;Dept=PCS&amp;Term=202080&amp;Corq=A&amp;Preq=S\"><span onclick=\"javascript:ShowProgress();\">PCS</span></a></b></td><td colspan=\"1\" style=\"text-align:left;padding-left:3px;padding-right:3px;\"><b><a class=\"nav\" href=\"?Menu=&amp;ShowMenuDetail=&amp;Debug=&amp;DB=PROD&amp;WO=&amp;2504=Y&amp;Dept=PCS&amp;Term=202080&amp;Corq=A&amp;Preq=S\"><span onclick=\"javascript:ShowProgress();\">Psy, Coun, and Sped Ed</span></a></b></td><td colspan=\"1\" style=\"text-align:left;padding-left:3px;padding-right:3px;\"><b><a class=\"nav\" href=\"?Menu=&amp;ShowMenuDetail=&amp;Debug=&amp;DB=PROD&amp;WO=&amp;2504=Y&amp;Dept=PCS&amp;Term=202080&amp;Corq=A&amp;Preq=S\"><span onclick=\"javascript:ShowProgress();\">PSY </span></a></b></td>\n",
       " </tr>,\n",
       " <tr class=\"StandardRowOdd\">\n",
       " <td colspan=\"1\" style=\"text-align:left;padding-left:3px;padding-right:3px;\"><b><a class=\"nav\" href=\"?Menu=&amp;ShowMenuDetail=&amp;Debug=&amp;DB=PROD&amp;WO=&amp;2504=Y&amp;Dept=PSCI&amp;Term=202080&amp;Corq=A&amp;Preq=S\"><span onclick=\"javascript:ShowProgress();\">PSCI</span></a></b></td><td colspan=\"1\" style=\"text-align:left;padding-left:3px;padding-right:3px;\"><b><a class=\"nav\" href=\"?Menu=&amp;ShowMenuDetail=&amp;Debug=&amp;DB=PROD&amp;WO=&amp;2504=Y&amp;Dept=PSCI&amp;Term=202080&amp;Corq=A&amp;Preq=S\"><span onclick=\"javascript:ShowProgress();\">Political Science</span></a></b></td><td colspan=\"1\" style=\"text-align:left;padding-left:3px;padding-right:3px;\"><b><a class=\"nav\" href=\"?Menu=&amp;ShowMenuDetail=&amp;Debug=&amp;DB=PROD&amp;WO=&amp;2504=Y&amp;Dept=PSCI&amp;Term=202080&amp;Corq=A&amp;Preq=S\"><span onclick=\"javascript:ShowProgress();\">LALS PLGL PSCI </span></a></b></td>\n",
       " </tr>,\n",
       " <tr class=\"StandardRowOdd\">\n",
       " <td colspan=\"1\" style=\"text-align:left;padding-left:3px;padding-right:3px;\"><b><a class=\"nav\" href=\"?Menu=&amp;ShowMenuDetail=&amp;Debug=&amp;DB=PROD&amp;WO=&amp;2504=Y&amp;Dept=REGR&amp;Term=202080&amp;Corq=A&amp;Preq=S\"><span onclick=\"javascript:ShowProgress();\">REGR</span></a></b></td><td colspan=\"1\" style=\"text-align:left;padding-left:3px;padding-right:3px;\"><b><a class=\"nav\" href=\"?Menu=&amp;ShowMenuDetail=&amp;Debug=&amp;DB=PROD&amp;WO=&amp;2504=Y&amp;Dept=REGR&amp;Term=202080&amp;Corq=A&amp;Preq=S\"><span onclick=\"javascript:ShowProgress();\">Registrar, Office of</span></a></b></td><td colspan=\"1\" style=\"text-align:left;padding-left:3px;padding-right:3px;\"><b><a class=\"nav\" href=\"?Menu=&amp;ShowMenuDetail=&amp;Debug=&amp;DB=PROD&amp;WO=&amp;2504=Y&amp;Dept=REGR&amp;Term=202080&amp;Corq=A&amp;Preq=S\"><span onclick=\"javascript:ShowProgress();\">UTA </span></a></b></td>\n",
       " </tr>,\n",
       " <tr class=\"StandardRowOdd\">\n",
       " <td colspan=\"1\" style=\"text-align:left;padding-left:3px;padding-right:3px;\"><b><a class=\"nav\" href=\"?Menu=&amp;ShowMenuDetail=&amp;Debug=&amp;DB=PROD&amp;WO=&amp;2504=Y&amp;Dept=SOC&amp;Term=202080&amp;Corq=A&amp;Preq=S\"><span onclick=\"javascript:ShowProgress();\">SOC</span></a></b></td><td colspan=\"1\" style=\"text-align:left;padding-left:3px;padding-right:3px;\"><b><a class=\"nav\" href=\"?Menu=&amp;ShowMenuDetail=&amp;Debug=&amp;DB=PROD&amp;WO=&amp;2504=Y&amp;Dept=SOC&amp;Term=202080&amp;Corq=A&amp;Preq=S\"><span onclick=\"javascript:ShowProgress();\">Sociology &amp; Criminal Justice</span></a></b></td><td colspan=\"1\" style=\"text-align:left;padding-left:3px;padding-right:3px;\"><b><a class=\"nav\" href=\"?Menu=&amp;ShowMenuDetail=&amp;Debug=&amp;DB=PROD&amp;WO=&amp;2504=Y&amp;Dept=SOC&amp;Term=202080&amp;Corq=A&amp;Preq=S\"><span onclick=\"javascript:ShowProgress();\">ANTH CJ SOC </span></a></b></td>\n",
       " </tr>,\n",
       " <tr class=\"StandardRowOdd\">\n",
       " <td colspan=\"1\" style=\"text-align:left;padding-left:3px;padding-right:3px;\"><b><a class=\"nav\" href=\"?Menu=&amp;ShowMenuDetail=&amp;Debug=&amp;DB=PROD&amp;WO=&amp;2504=Y&amp;Dept=THEA&amp;Term=202080&amp;Corq=A&amp;Preq=S\"><span onclick=\"javascript:ShowProgress();\">THEA</span></a></b></td><td colspan=\"1\" style=\"text-align:left;padding-left:3px;padding-right:3px;\"><b><a class=\"nav\" href=\"?Menu=&amp;ShowMenuDetail=&amp;Debug=&amp;DB=PROD&amp;WO=&amp;2504=Y&amp;Dept=THEA&amp;Term=202080&amp;Corq=A&amp;Preq=S\"><span onclick=\"javascript:ShowProgress();\">Theatre</span></a></b></td><td colspan=\"1\" style=\"text-align:left;padding-left:3px;padding-right:3px;\"><b><a class=\"nav\" href=\"?Menu=&amp;ShowMenuDetail=&amp;Debug=&amp;DB=PROD&amp;WO=&amp;2504=Y&amp;Dept=THEA&amp;Term=202080&amp;Corq=A&amp;Preq=S\"><span onclick=\"javascript:ShowProgress();\">THE </span></a></b></td>\n",
       " </tr>]"
      ]
     },
     "execution_count": 79,
     "metadata": {},
     "output_type": "execute_result"
    }
   ],
   "source": [
    "t1"
   ]
  },
  {
   "cell_type": "code",
   "execution_count": 89,
   "metadata": {},
   "outputs": [],
   "source": [
    "x = t1[0].find_all('td')"
   ]
  },
  {
   "cell_type": "code",
   "execution_count": 92,
   "metadata": {},
   "outputs": [
    {
     "name": "stdout",
     "output_type": "stream",
     "text": [
      "0000\n",
      "Undeclared\n",
      "TCOL \n"
     ]
    }
   ],
   "source": [
    "for i in range(3):\n",
    "    print(x[i].text)\n",
    "    "
   ]
  },
  {
   "cell_type": "code",
   "execution_count": 93,
   "metadata": {},
   "outputs": [
    {
     "ename": "TypeError",
     "evalue": "object of type 'int' has no len()",
     "output_type": "error",
     "traceback": [
      "\u001b[1;31m---------------------------------------------------------------------------\u001b[0m",
      "\u001b[1;31mTypeError\u001b[0m                                 Traceback (most recent call last)",
      "\u001b[1;32m<ipython-input-93-6b3b01eb5e19>\u001b[0m in \u001b[0;36m<module>\u001b[1;34m\u001b[0m\n\u001b[1;32m----> 1\u001b[1;33m \u001b[0mlen\u001b[0m\u001b[1;33m(\u001b[0m\u001b[1;36m3\u001b[0m\u001b[1;33m)\u001b[0m\u001b[1;33m\u001b[0m\u001b[1;33m\u001b[0m\u001b[0m\n\u001b[0m",
      "\u001b[1;31mTypeError\u001b[0m: object of type 'int' has no len()"
     ]
    }
   ],
   "source": []
  },
  {
   "cell_type": "code",
   "execution_count": null,
   "metadata": {},
   "outputs": [],
   "source": []
  }
 ],
 "metadata": {
  "kernelspec": {
   "display_name": "Python 3",
   "language": "python",
   "name": "python3"
  },
  "language_info": {
   "codemirror_mode": {
    "name": "ipython",
    "version": 3
   },
   "file_extension": ".py",
   "mimetype": "text/x-python",
   "name": "python",
   "nbconvert_exporter": "python",
   "pygments_lexer": "ipython3",
   "version": "3.8.3"
  }
 },
 "nbformat": 4,
 "nbformat_minor": 4
}
